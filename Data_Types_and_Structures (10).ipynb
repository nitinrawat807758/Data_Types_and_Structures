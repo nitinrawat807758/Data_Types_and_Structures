{
  "nbformat": 4,
  "nbformat_minor": 0,
  "metadata": {
    "colab": {
      "provenance": []
    },
    "kernelspec": {
      "name": "python3",
      "display_name": "Python 3"
    },
    "language_info": {
      "name": "python"
    }
  },
  "cells": [
    {
      "cell_type": "markdown",
      "source": [
        "# **Data Types and Structures Questions and Answers**\n"
      ],
      "metadata": {
        "id": "Ea3Twqh8lXVw"
      }
    },
    {
      "cell_type": "markdown",
      "source": [
        "**1.   What are data structures, and why are they important?**\n",
        "\n",
        "*   Data structures are the way of organizing and storing the data so that it can be accessed and modified efficiently. eg, Tuple, String, List, Dictionary, array etc.\n",
        "*   They are important because they are crucial for efficient data management and algorithm implementation, impacting the performance and scalability of software applications.\n",
        "\n",
        "**2. Explain the difference between mutable and immutable data types with examples?**\n",
        "\n",
        "* Mutable data types are the type of data type which can be changed after its creation. eg, lists, dictionary, etc.\n",
        "* eg: list=[1,2,3] list[0]=4 #here now the original list[1,2,3] after list[0]=4 has become list[4,2,3]\n",
        "* Immutable data types are the type of data type which cannot be changed after its creation. eg, Tuple, String\n",
        "* eg, my_tuple = (1, 2, 3)\n",
        "* my_tuple[0] = 4 # This will raise a TypeError\n",
        "\n",
        "\n",
        "**3.   What are the main differences between lists and tuples in Python?**\n",
        "* **Main Differences Between Lists and Tuples in Python:**\n",
        "\n",
        "  *   Lists are mutable, tuples are immutable.\n",
        "  *   Tuples are generally faster than lists due to their immutability.\n",
        "  *   Tuples use less memory compared to lists\n",
        "\n",
        "**4**.   **Describe how dictionaries store data?**\n",
        "\n",
        "* Dictionaries store data in key-value pairs. Each key is hashed to a unique index in an array where the corresponding value is stored.\n",
        "* eg, dict = {'name': 'ankit', 'age': 26}\n",
        "    * here name is key while ankit is value of key.\n",
        "    \n",
        "**5**. **Why might you use a set instead of a list in Python?**\n",
        "\n",
        "* Sets autimatically removes duplicate values while List don't do that.\n",
        "* Also sets provides faster membership tests compared to lists.\n",
        "\n",
        "**6**. **What is a string in Python, and how is it different from a list?**\n",
        "\n",
        "* String is the sequence of characters which is immutable in nature and it contains only string data types and no other data types.\n",
        "* While in other hand Lists are collection of items and is mutable data structure which can contains multiple data types.\n",
        "\n",
        "**7**.  **How do tuples ensure data integrity in Python?**\n",
        "\n",
        "* Since tuples are immutable in nature thats why, Once created, the elements of a tuple cannot be changed, ensuring that the data remains constant.\n",
        "\n",
        "**8**. **What is a hash table, and how does it relate to dictionaries in Python?**\n",
        "\n",
        "* Hash Table: A data structure that maps keys to values using a hash function to compute an index into an array of buckets or slots.\n",
        "* Relation to Dictionaries: Python dictionaries are implemented using hash tables.\n",
        "\n",
        "**9**. **Can lists contain different data types in Python?**\n",
        "\n",
        "* Yes: Lists can contain elements of different data types, such as integers, strings, and even other lists.\n",
        "* eg, mylist=[1,'Sonu',3.5]\n",
        "\n",
        "**10**. **Explain why strings are immutable in Python?**\n",
        "\n",
        "* Immutability helps with performance optimization, memory efficiency, and thread safety. It also allows strings to be used as keys in dictionaries.\n",
        "\n",
        "**11**. **What advantages do dictionaries offer over lists for certain tasks?**\n",
        "\n",
        "* Key-Value Mapping: Efficient for lookups, insertions, and deletions based on keys.\n",
        "* Example: Storing user information where quick access to user details by username is needed.\n",
        "\n",
        "**12**. **Describe a scenario where using a tuple would be preferable over a list.**\n",
        "* Storing coordinates of a point (x, y) where the values should not change.\n",
        "\n",
        "**13**. **How do sets handle duplicate values in Python?**\n",
        "\n",
        "* Python set data structures inherently do not allow duplicate values. When we attempt to add duplicate values to a set, or when we create a set from an iterable that contains duplicates, the set will automatically discard the duplicates, storing only one instance of each unique element.\n",
        "\n",
        "**14**. **How does the “in” keyword work differently for lists and dictionaries?**\n",
        "* In List \"in\" Checks for the presence of a value as an element.\n",
        "* In Dictionary \"in\" checks for the presence of a key.\n",
        "\n",
        "**15** . **Can you modify the elements of a tuple? Explain why or why not?**\n",
        "* Since Tuples data structure is immutable, meaning we cannot modify the elements of tuples once its created.\n",
        "\n",
        "**16** . **What is a nested dictionary, and give an example of its use case?**\n",
        "\n",
        "* A nested dictionary is the dictionary within another dictionary.\n",
        "* nested_dict = {'user1': {'name': 'sumit', 'age': 25}, 'user2': {'name': 'ajay', 'age': 22}}\n",
        "\n",
        "**17** . **Describe the time complexity of accessing elements in a dictionary.**\n",
        "* The time complexity of accessing elements in a Python dictionary (ie., looking up a value using its key) is, on average, O(1) (constant time).\n",
        "\n",
        "**18**. **In what situations are lists preferred over dictionaries?**\n",
        "* When data naturally fits a sequence, where order and positional access are important, and duplicates are acceptable, a list is the preffered choice.\n",
        "Why are dictionaries considered unordered, and how does that affect data retrieval?\n",
        "\n",
        "**19**. **Why are dictionaries considered unordered, and how does that affect data retrieval?**\n",
        "* Dictionaries are designed for fast, direct access to values when we have the unique key. Their \"unordered\" nature means we trade index-based access for extremely efficient key-based retrieval, making them ideal for mapping and lookup tasks.\n",
        "* We cannot retrieve items using integer indices like my_dict[0]. We must know the exact key to retrieve its associated value.\n",
        "* Data retrieval is inherently driven by the key. If we don't know the key, we have to iterate through the dictionary's keys or values to find what we're looking for, which is less efficient than a direct key lookup.\n",
        "\n",
        "**20** . **Explain the difference between a list and a dictionary in terms of data retrieval.**\n",
        "\n",
        "* Lists are for ordered collections where you want to retrieve \"the Nth item,\" like List[1]. - while dictionaries are for unordered collections where you want to retrieve \"the item named X. eg, my_dict = {'name': 'Sonu', 'age': 26, 'city': 'Nashik'} person_name = my_dict['name'] person_age = my_age['age']\n",
        "\n",
        "\n",
        "\n",
        "\n",
        "\n",
        "\n",
        "\n",
        "\n",
        "\n",
        "\n",
        "\n",
        "\n",
        "\n",
        "\n",
        "\n",
        "\n",
        "\n",
        "\n",
        "\n",
        "\n",
        "\n",
        "\n",
        "\n",
        "\n",
        "\n",
        "\n",
        "\n",
        "\n",
        "\n",
        "\n",
        "\n",
        "\n",
        "\n",
        "\n",
        "\n",
        "\n"
      ],
      "metadata": {
        "id": "GUxXe3SolkN3"
      }
    },
    {
      "cell_type": "markdown",
      "source": [
        "# **Data Types and Structures Questions Practical Questions**\n"
      ],
      "metadata": {
        "id": "WbL2b2GOnR3b"
      }
    },
    {
      "cell_type": "code",
      "source": [
        "#1.Write a code to create a string with your name and print it.\n",
        "name = \"Sonu Pandit\"\n",
        "print(name)"
      ],
      "metadata": {
        "colab": {
          "base_uri": "https://localhost:8080/"
        },
        "id": "KcVHr_a_1CYM",
        "outputId": "2c567700-4b75-4d4d-c770-f5c0c21d90a0"
      },
      "execution_count": null,
      "outputs": [
        {
          "output_type": "stream",
          "name": "stdout",
          "text": [
            "Sonu Pandit\n"
          ]
        }
      ]
    },
    {
      "cell_type": "code",
      "source": [
        "#2.Write a code to find the length of the string \"Hello World\".\n",
        "print(len(\"Hello World\"))"
      ],
      "metadata": {
        "colab": {
          "base_uri": "https://localhost:8080/"
        },
        "id": "_npp8FRX1Xqi",
        "outputId": "a47feba3-bd7f-4dd4-d4f2-4c924487ec53"
      },
      "execution_count": null,
      "outputs": [
        {
          "output_type": "stream",
          "name": "stdout",
          "text": [
            "11\n"
          ]
        }
      ]
    },
    {
      "cell_type": "code",
      "source": [
        "#3.Write a code to slice the first 3 characters from the string \"Python Programming\".\n",
        "string = \"Python Programming\"\n",
        "text = \"Python Programming\"\n",
        "sliced_text = text[:3]\n",
        "print(sliced_text)"
      ],
      "metadata": {
        "colab": {
          "base_uri": "https://localhost:8080/"
        },
        "id": "FSmwg3G81gtp",
        "outputId": "7dead1a9-2b99-4e1b-e6ae-e25c46a2bbf4"
      },
      "execution_count": null,
      "outputs": [
        {
          "output_type": "stream",
          "name": "stdout",
          "text": [
            "Pyt\n"
          ]
        }
      ]
    },
    {
      "cell_type": "code",
      "source": [
        "#4. Write a code to convert the string \"hello\" to uppercase.\n",
        "text = \"hello\"\n",
        "uppercase_text = text.upper()\n",
        "print(uppercase_text)\n"
      ],
      "metadata": {
        "colab": {
          "base_uri": "https://localhost:8080/"
        },
        "id": "8u4MgWK01-TK",
        "outputId": "42301410-1af3-482e-efe1-5289c6b08155"
      },
      "execution_count": null,
      "outputs": [
        {
          "output_type": "stream",
          "name": "stdout",
          "text": [
            "HELLO\n"
          ]
        }
      ]
    },
    {
      "cell_type": "code",
      "source": [
        "#5. Write a code to replace the word \"apple\" with \"orange\" in the string \"I like apple\".\n",
        "text = \"I like apple\"\n",
        "new_text = text.replace(\"apple\", \"orange\")\n",
        "print(new_text)\n"
      ],
      "metadata": {
        "colab": {
          "base_uri": "https://localhost:8080/"
        },
        "id": "m_5U4ipK2QVT",
        "outputId": "32165c06-fcc0-4ba9-e754-800701b1f447"
      },
      "execution_count": null,
      "outputs": [
        {
          "output_type": "stream",
          "name": "stdout",
          "text": [
            "I like orange\n"
          ]
        }
      ]
    },
    {
      "cell_type": "code",
      "source": [
        "#6. Write a code to create a list with numbers 1 to 5 and print it.\n",
        "numbers = [1, 2, 3, 4, 5]\n",
        "print(numbers)\n",
        "\n"
      ],
      "metadata": {
        "colab": {
          "base_uri": "https://localhost:8080/"
        },
        "id": "xJNPO4jV2iqB",
        "outputId": "ac2731dd-fc47-44fe-c63f-8e4e96496d72"
      },
      "execution_count": null,
      "outputs": [
        {
          "output_type": "stream",
          "name": "stdout",
          "text": [
            "[1, 2, 3, 4, 5]\n"
          ]
        }
      ]
    },
    {
      "cell_type": "code",
      "source": [
        "#7. Write a code to append the number 10 to the list [1, 2, 3, 4].\n",
        "numbers = [1, 2, 3, 4]\n",
        "numbers.append(10)\n",
        "print(numbers)\n"
      ],
      "metadata": {
        "colab": {
          "base_uri": "https://localhost:8080/"
        },
        "id": "RGhBp1pY23vw",
        "outputId": "83fca2e2-dc40-49c3-bed2-47ace981904d"
      },
      "execution_count": null,
      "outputs": [
        {
          "output_type": "stream",
          "name": "stdout",
          "text": [
            "[1, 2, 3, 4, 10]\n"
          ]
        }
      ]
    },
    {
      "cell_type": "code",
      "source": [
        "#8. Write a code to remove the number 3 from the list [1, 2, 3, 4, 5].\n",
        "numbers = [1, 2, 3, 4, 5]\n",
        "numbers.remove(3)\n",
        "print(numbers)\n",
        "\n"
      ],
      "metadata": {
        "colab": {
          "base_uri": "https://localhost:8080/"
        },
        "id": "VmYs-QD83KsM",
        "outputId": "287a6230-0f20-4246-e530-ea7ec33aaacd"
      },
      "execution_count": null,
      "outputs": [
        {
          "output_type": "stream",
          "name": "stdout",
          "text": [
            "[1, 2, 4, 5]\n"
          ]
        }
      ]
    },
    {
      "cell_type": "code",
      "source": [
        "#9. Write a code to access the second element in the list ['a', 'b', 'c', 'd'].\n",
        "letters = ['a', 'b', 'c', 'd']\n",
        "second_element = letters[1]\n",
        "print(second_element)\n"
      ],
      "metadata": {
        "colab": {
          "base_uri": "https://localhost:8080/"
        },
        "id": "qvhWVmBR3WwP",
        "outputId": "edabc80d-7af7-4713-f4fc-df037d1fd657"
      },
      "execution_count": null,
      "outputs": [
        {
          "output_type": "stream",
          "name": "stdout",
          "text": [
            "b\n"
          ]
        }
      ]
    },
    {
      "cell_type": "code",
      "source": [
        "#10. Write a code to reverse the list [10, 20, 30, 40, 50].\n",
        "numbers = [10, 20, 30, 40, 50]\n",
        "numbers.reverse()\n",
        "print(numbers)\n"
      ],
      "metadata": {
        "colab": {
          "base_uri": "https://localhost:8080/"
        },
        "id": "Mi5DKVa03oGU",
        "outputId": "8c634d88-990a-492e-b2c1-176cf9a2c3a5"
      },
      "execution_count": null,
      "outputs": [
        {
          "output_type": "stream",
          "name": "stdout",
          "text": [
            "[50, 40, 30, 20, 10]\n"
          ]
        }
      ]
    },
    {
      "cell_type": "code",
      "source": [
        "#11. Write a code to create a tuple with the elements 100, 200, 300 and print it.\n",
        "my_tuple = (100, 200, 300)\n",
        "print(my_tuple)\n"
      ],
      "metadata": {
        "colab": {
          "base_uri": "https://localhost:8080/"
        },
        "id": "N0WmeV9k39Cr",
        "outputId": "b68e86ac-8496-489f-9fce-b818b0923da2"
      },
      "execution_count": null,
      "outputs": [
        {
          "output_type": "stream",
          "name": "stdout",
          "text": [
            "(100, 200, 300)\n"
          ]
        }
      ]
    },
    {
      "cell_type": "code",
      "source": [
        "#12. Write a code to access the second-to-last element of the tuple ('red', 'green', 'blue', 'yellow').\n",
        "colors = ('red', 'green', 'blue', 'yellow')\n",
        "second_to_last = colors[-2]\n",
        "print(second_to_last)\n"
      ],
      "metadata": {
        "colab": {
          "base_uri": "https://localhost:8080/"
        },
        "id": "Alr--onV4FoT",
        "outputId": "97df4357-f7ee-4a03-a947-c6e9a1fecbeb"
      },
      "execution_count": null,
      "outputs": [
        {
          "output_type": "stream",
          "name": "stdout",
          "text": [
            "blue\n"
          ]
        }
      ]
    },
    {
      "cell_type": "code",
      "source": [
        "#13.  Write a code to find the minimum number in the tuple (10, 20, 5, 15).\n",
        "numbers = (10, 20, 5, 15)\n",
        "min_number = min(numbers)\n",
        "print(min_number)\n"
      ],
      "metadata": {
        "colab": {
          "base_uri": "https://localhost:8080/"
        },
        "id": "ZLOm0lh64SQ1",
        "outputId": "fcc513f3-e93e-42aa-d065-b4d2c769fe8c"
      },
      "execution_count": null,
      "outputs": [
        {
          "output_type": "stream",
          "name": "stdout",
          "text": [
            "5\n"
          ]
        }
      ]
    },
    {
      "cell_type": "code",
      "source": [
        "#14.Write a code to find the index of the element \"cat\" in the tuple ('dog', 'cat', 'rabbit').\n",
        "animals = ('dog', 'cat', 'rabbit')\n",
        "index_of_cat = animals.index('cat')\n",
        "print(index_of_cat)\n"
      ],
      "metadata": {
        "colab": {
          "base_uri": "https://localhost:8080/"
        },
        "id": "d2I9S_mL4Zyx",
        "outputId": "52e7ea2c-326b-4849-b058-de33c6cc3062"
      },
      "execution_count": null,
      "outputs": [
        {
          "output_type": "stream",
          "name": "stdout",
          "text": [
            "1\n"
          ]
        }
      ]
    },
    {
      "cell_type": "code",
      "source": [
        "#15. Write a code to create a tuple containing three different fruits and check if \"kiwi\" is in it.\n",
        "\n",
        "fruits = (\"apple\", \"banana\", \"orange\")\n",
        "if \"kiwi\" in fruits:\n",
        "    print(\"Kiwi is in the tuple.\")\n",
        "else:\n",
        "    print(\"Kiwi is not in the tuple.\")\n"
      ],
      "metadata": {
        "colab": {
          "base_uri": "https://localhost:8080/"
        },
        "id": "vqMpMmxP4tzI",
        "outputId": "9b208bcd-06d8-435c-f638-8dbdceef8547"
      },
      "execution_count": null,
      "outputs": [
        {
          "output_type": "stream",
          "name": "stdout",
          "text": [
            "Kiwi is not in the tuple.\n"
          ]
        }
      ]
    },
    {
      "cell_type": "code",
      "source": [
        "#16. Write a code to create a set with the elements 'a', 'b', 'c' and print it.\n",
        "\n",
        "my_set = {'a', 'b', 'c'}\n",
        "print(my_set)\n"
      ],
      "metadata": {
        "colab": {
          "base_uri": "https://localhost:8080/"
        },
        "id": "hSKjY2vR5BnW",
        "outputId": "c2e1c0d3-89a6-4ac0-8816-df66753be8f4"
      },
      "execution_count": null,
      "outputs": [
        {
          "output_type": "stream",
          "name": "stdout",
          "text": [
            "{'c', 'b', 'a'}\n"
          ]
        }
      ]
    },
    {
      "cell_type": "code",
      "source": [
        "#17 . Write a code to clear all elements from the set {1, 2, 3, 4, 5}.\n",
        "\n",
        "my_set = {1, 2, 3, 4, 5}\n",
        "my_set.clear()\n",
        "print(my_set)\n"
      ],
      "metadata": {
        "colab": {
          "base_uri": "https://localhost:8080/"
        },
        "id": "wUOYz-7z5K8L",
        "outputId": "56e3d06c-1e13-4bce-c572-e78298474439"
      },
      "execution_count": null,
      "outputs": [
        {
          "output_type": "stream",
          "name": "stdout",
          "text": [
            "set()\n"
          ]
        }
      ]
    },
    {
      "cell_type": "code",
      "source": [
        "#18. Write a code to remove the element 4 from the set {1, 2, 3, 4}.\n",
        "my_set = {1, 2, 3, 4}\n",
        "my_set.remove(4)\n",
        "print(my_set)\n"
      ],
      "metadata": {
        "colab": {
          "base_uri": "https://localhost:8080/"
        },
        "id": "oJLjW2x35fAA",
        "outputId": "1a08d389-005d-4f0a-efab-0846dac8679c"
      },
      "execution_count": null,
      "outputs": [
        {
          "output_type": "stream",
          "name": "stdout",
          "text": [
            "{1, 2, 3}\n"
          ]
        }
      ]
    },
    {
      "cell_type": "code",
      "source": [
        "#19 .  Write a code to find the union of two sets {1, 2, 3} and {3, 4, 5}.\n",
        "set1 = {1, 2, 3}\n",
        "set2 = {3, 4, 5}\n",
        "union_set = set1.union(set2)\n",
        "print(union_set)\n"
      ],
      "metadata": {
        "colab": {
          "base_uri": "https://localhost:8080/"
        },
        "id": "zBguiAZB5wzq",
        "outputId": "6b7e85fd-2941-43cb-a728-70a6a9c7029d"
      },
      "execution_count": null,
      "outputs": [
        {
          "output_type": "stream",
          "name": "stdout",
          "text": [
            "{1, 2, 3, 4, 5}\n"
          ]
        }
      ]
    },
    {
      "cell_type": "code",
      "source": [
        "#20 . Write a code to find the intersection of two sets {1, 2, 3} and {2, 3, 4}.\n",
        "\n",
        "set1 = {1, 2, 3}\n",
        "set2 = {2, 3, 4}\n",
        "intersection_set = set1.intersection(set2)\n",
        "print(intersection_set)\n"
      ],
      "metadata": {
        "colab": {
          "base_uri": "https://localhost:8080/"
        },
        "id": "0ZJZbcmZ57fu",
        "outputId": "c642c2ee-8409-4711-f081-326015a93fdf"
      },
      "execution_count": null,
      "outputs": [
        {
          "output_type": "stream",
          "name": "stdout",
          "text": [
            "{2, 3}\n"
          ]
        }
      ]
    },
    {
      "cell_type": "code",
      "source": [
        "#21 . Write a code to create a dictionary with the keys \"name\", \"age\", and \"city\", and print it.\n",
        "person = {\n",
        "    \"name\": \"Alice\",\n",
        "    \"age\": 30,\n",
        "    \"city\": \"New York\"\n",
        "}\n",
        "print(person)\n"
      ],
      "metadata": {
        "colab": {
          "base_uri": "https://localhost:8080/"
        },
        "id": "eB4O5Z_86Eer",
        "outputId": "53d0c7b5-009c-493b-9c82-3b57317a0f40"
      },
      "execution_count": null,
      "outputs": [
        {
          "output_type": "stream",
          "name": "stdout",
          "text": [
            "{'name': 'Alice', 'age': 30, 'city': 'New York'}\n"
          ]
        }
      ]
    },
    {
      "cell_type": "code",
      "source": [
        "#22 . Write a code to add a new key-value pair \"country\": \"USA\" to the dictionary {'name': 'John', 'age': 25}.\n",
        "person = {'name': 'John', 'age': 25}\n",
        "person['country'] = 'USA'\n",
        "print(person)\n"
      ],
      "metadata": {
        "colab": {
          "base_uri": "https://localhost:8080/"
        },
        "id": "FIaH8X_o6ORr",
        "outputId": "bb6bb794-726d-429f-b837-a2cba2ae0dd6"
      },
      "execution_count": null,
      "outputs": [
        {
          "output_type": "stream",
          "name": "stdout",
          "text": [
            "{'name': 'John', 'age': 25, 'country': 'USA'}\n"
          ]
        }
      ]
    },
    {
      "cell_type": "code",
      "source": [
        "#23. Write a code to access the value associated with the key \"name\" in the dictionary {'name': 'Alice', 'age': 30}.\n",
        "person = {'name': 'Alice', 'age': 30}\n",
        "name_value = person['name']\n",
        "print(name_value)\n",
        "\n"
      ],
      "metadata": {
        "colab": {
          "base_uri": "https://localhost:8080/"
        },
        "id": "r-3yKmqh6WXO",
        "outputId": "ab47c349-dc22-4ae8-948a-3f842393f729"
      },
      "execution_count": null,
      "outputs": [
        {
          "output_type": "stream",
          "name": "stdout",
          "text": [
            "Alice\n"
          ]
        }
      ]
    },
    {
      "cell_type": "code",
      "source": [
        "#24. Write a code to remove the key \"age\" from the dictionary {'name': 'Bob', 'age': 22, 'city': 'New York'}.\n",
        "person = {'name': 'Bob', 'age': 22, 'city': 'New York'}\n",
        "del person['age']\n",
        "print(person)\n"
      ],
      "metadata": {
        "colab": {
          "base_uri": "https://localhost:8080/"
        },
        "id": "en4KORqC6d9s",
        "outputId": "4eba46cb-4c26-406e-bb9f-8ef21b6432ce"
      },
      "execution_count": null,
      "outputs": [
        {
          "output_type": "stream",
          "name": "stdout",
          "text": [
            "{'name': 'Bob', 'city': 'New York'}\n"
          ]
        }
      ]
    },
    {
      "cell_type": "code",
      "source": [
        "#25.  Write a code to check if the key \"city\" exists in the dictionary {'name': 'Alice', 'city': 'Paris'}.\n",
        "person = {'name': 'Alice', 'city': 'Paris'}\n",
        "if 'city' in person:\n",
        "    print(\"Key 'city' exists in the dictionary.\")\n",
        "else:\n",
        "    print(\"Key 'city' does not exist in the dictionary.\")\n"
      ],
      "metadata": {
        "colab": {
          "base_uri": "https://localhost:8080/"
        },
        "id": "u0T5Mgjt6lnl",
        "outputId": "a94f3055-859b-4bcb-cbee-207ab45882f4"
      },
      "execution_count": null,
      "outputs": [
        {
          "output_type": "stream",
          "name": "stdout",
          "text": [
            "Key 'city' exists in the dictionary.\n"
          ]
        }
      ]
    },
    {
      "cell_type": "code",
      "source": [
        "#26. Write a code to create a list, a tuple, and a dictionary, and print them all.\n",
        "# Create a list\n",
        "my_list = [10, 20, 30]\n",
        "\n",
        "# Create a tuple\n",
        "my_tuple = ('apple', 'banana', 'cherry')\n",
        "\n",
        "# Create a dictionary\n",
        "my_dict = {'name': 'John', 'age': 25, 'city': 'London'}\n",
        "\n",
        "# Print them all\n",
        "print(\"List:\", my_list)\n",
        "print(\"Tuple:\", my_tuple)\n",
        "print(\"Dictionary:\", my_dict)\n"
      ],
      "metadata": {
        "colab": {
          "base_uri": "https://localhost:8080/"
        },
        "id": "S-uejPpp65aK",
        "outputId": "d0ddb50c-8b1b-4585-b01b-979b39eadda6"
      },
      "execution_count": null,
      "outputs": [
        {
          "output_type": "stream",
          "name": "stdout",
          "text": [
            "List: [10, 20, 30]\n",
            "Tuple: ('apple', 'banana', 'cherry')\n",
            "Dictionary: {'name': 'John', 'age': 25, 'city': 'London'}\n"
          ]
        }
      ]
    },
    {
      "cell_type": "code",
      "source": [
        "#27. Write a code to create a list of 5 random numbers between 1 and 100, sort it in ascending order, and print the\n",
        "\n",
        "import random\n",
        "\n",
        "# Create a list of 5 random numbers between 1 and 100\n",
        "random_numbers = [random.randint(1, 100) for _ in range(5)]\n",
        "\n",
        "# Sort the list in ascending order\n",
        "random_numbers.sort()\n",
        "\n",
        "# Print the result\n",
        "print(\"Sorted random numbers:\", random_numbers)\n",
        "\n"
      ],
      "metadata": {
        "colab": {
          "base_uri": "https://localhost:8080/"
        },
        "id": "eLOpsp_G7RB6",
        "outputId": "de9b51d7-9377-461c-8cb5-c0bb3e3b488d"
      },
      "execution_count": null,
      "outputs": [
        {
          "output_type": "stream",
          "name": "stdout",
          "text": [
            "Sorted random numbers: [8, 22, 26, 30, 67]\n"
          ]
        }
      ]
    },
    {
      "cell_type": "code",
      "source": [
        "#28.  Write a code to create a list with strings and print the element at the third index.\n",
        "\n",
        "# Create a list with strings\n",
        "words = [\"apple\", \"banana\", \"cherry\", \"date\", \"elderberry\"]\n",
        "\n",
        "# Print the element at the third index (4th item)\n",
        "print(\"Element at index 3:\", words[3])\n"
      ],
      "metadata": {
        "colab": {
          "base_uri": "https://localhost:8080/"
        },
        "id": "32_Kiq947loF",
        "outputId": "73d2cbda-a3a6-4056-b531-0d79360ef299"
      },
      "execution_count": null,
      "outputs": [
        {
          "output_type": "stream",
          "name": "stdout",
          "text": [
            "Element at index 3: date\n"
          ]
        }
      ]
    },
    {
      "cell_type": "code",
      "source": [
        "#29.  Write a code to combine two dictionaries into one and print the result.\n",
        "\n",
        "# Define two dictionaries\n",
        "dict1 = {'a': 1, 'b': 2}\n",
        "dict2 = {'c': 3, 'd': 4}\n",
        "\n",
        "# Combine the dictionaries\n",
        "combined_dict = {**dict1, **dict2}\n",
        "\n",
        "# Print the result\n",
        "print(\"Combined dictionary:\", combined_dict)\n"
      ],
      "metadata": {
        "colab": {
          "base_uri": "https://localhost:8080/"
        },
        "id": "TUWJX0zf7uZJ",
        "outputId": "e3c2ee5b-d66d-47cd-b0ad-8bbc9c623e28"
      },
      "execution_count": null,
      "outputs": [
        {
          "output_type": "stream",
          "name": "stdout",
          "text": [
            "Combined dictionary: {'a': 1, 'b': 2, 'c': 3, 'd': 4}\n"
          ]
        }
      ]
    },
    {
      "cell_type": "code",
      "source": [
        "#30. Write a code to convert a list of strings into a set.\n",
        "# List of strings\n",
        "string_list = ['apple', 'banana', 'cherry', 'apple']\n",
        "\n",
        "# Convert list to set\n",
        "string_set = set(string_list)\n",
        "\n",
        "# Print the set\n",
        "print(\"Set:\", string_set)\n"
      ],
      "metadata": {
        "colab": {
          "base_uri": "https://localhost:8080/"
        },
        "id": "EV5O-oZl738t",
        "outputId": "4501593d-9acf-49c4-e3e7-9e1362ae1c2b"
      },
      "execution_count": null,
      "outputs": [
        {
          "output_type": "stream",
          "name": "stdout",
          "text": [
            "Set: {'banana', 'cherry', 'apple'}\n"
          ]
        }
      ]
    }
  ]
}